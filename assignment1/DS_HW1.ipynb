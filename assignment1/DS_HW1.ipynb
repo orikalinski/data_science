{
 "cells": [
  {
   "cell_type": "markdown",
   "metadata": {},
   "source": [
    "# Data Understanding and Data Preparation Exercise\n",
    "### Courtesy of Intel Advanced Analytics\n",
    "\n"
   ]
  },
  {
   "cell_type": "markdown",
   "metadata": {},
   "source": [
    "In this exercise you will explore data that is related with direct marketing campaigns of a Portuguese banking institution. \n",
    "The marketing campaigns were based on phone calls. Often, more than one contact to the same client was required, \n",
    "in order to access if the product (bank term deposit) would be (or not) subscribed. \n",
    "\n",
    "Data source:\n",
    " [Moro et al., 2011] S. Moro, R. Laureano and P. Cortez. Using Data Mining for Bank Direct Marketing: An Application of the CRISP-DM Methodology. \n",
    " \n",
    "Good luck!"
   ]
  },
  {
   "cell_type": "code",
   "execution_count": 1,
   "metadata": {
    "collapsed": true
   },
   "outputs": [],
   "source": [
    "%matplotlib inline\n",
    "\n",
    "import pandas as pd\n",
    "import numpy as np\n",
    "import matplotlib.pyplot as plt\n",
    "import math"
   ]
  },
  {
   "cell_type": "markdown",
   "metadata": {},
   "source": [
    "# Q1\n"
   ]
  },
  {
   "cell_type": "markdown",
   "metadata": {},
   "source": [
    "## Familiarizing yourself with the data"
   ]
  },
  {
   "cell_type": "markdown",
   "metadata": {},
   "source": [
    "1) Download the 'bank-full_2016.csv' database to a local directory, and load it into a DataFrame object: http://slavanov.com/teaching/ds1617b/bank-full_2016.csv"
   ]
  },
  {
   "cell_type": "code",
   "execution_count": 2,
   "metadata": {
    "collapsed": true
   },
   "outputs": [],
   "source": [
    "df = pd.read_csv(\"/home/ori/computer_sience/data_science/bank-full_2016.csv\")"
   ]
  },
  {
   "cell_type": "markdown",
   "metadata": {},
   "source": [
    "2) Explore your data a bit:\n",
    "- What are the dimensions of the table?\n",
    "- What are the different attributes in it?\n",
    "- Return a frequency table of the \"outcome\" category in the table - i.e return all the possible values in that category, and how many times each value is present in the table.\n",
    "- Display the first 5 rows of the table."
   ]
  },
  {
   "cell_type": "code",
   "execution_count": 3,
   "metadata": {
    "collapsed": false
   },
   "outputs": [
    {
     "name": "stdout",
     "output_type": "stream",
     "text": [
      "(45211, 17)\n",
      "Index(['age', 'job', 'marital', 'education', 'default_credit', 'balance',\n",
      "       'housing_loan', 'personal_loan', 'contact', 'day', 'month', 'duration',\n",
      "       'campaign', 'days_from_last_contact', 'previous_campaign_contacts',\n",
      "       'previous_campaign_outcome', 'outcome'],\n",
      "      dtype='object')\n",
      "no     39922\n",
      "yes     5289\n",
      "Name: outcome, dtype: int64\n",
      "   age           job  marital  education default_credit  balance housing_loan  \\\n",
      "0   58    management  married   tertiary             no     2143          yes   \n",
      "1   44    technician   single  secondary             no       29          yes   \n",
      "2   33  entrepreneur  married  secondary             no        2          yes   \n",
      "3   47   blue-collar  married    unknown             no     1506          yes   \n",
      "4   33       unknown   single    unknown             no        1           no   \n",
      "\n",
      "  personal_loan  contact  day month  duration  campaign  \\\n",
      "0            no  unknown    5   may       261         1   \n",
      "1            no  unknown    5   may       151         1   \n",
      "2           yes  unknown    5   may        76         1   \n",
      "3            no  unknown    5   may        92         1   \n",
      "4            no  unknown    5   may       198         1   \n",
      "\n",
      "   days_from_last_contact  previous_campaign_contacts  \\\n",
      "0                     NaN                           0   \n",
      "1                     NaN                           0   \n",
      "2                     NaN                           0   \n",
      "3                     NaN                           0   \n",
      "4                     NaN                           0   \n",
      "\n",
      "  previous_campaign_outcome outcome  \n",
      "0                   unknown      no  \n",
      "1                   unknown      no  \n",
      "2                   unknown      no  \n",
      "3                   unknown      no  \n",
      "4                   unknown      no  \n"
     ]
    }
   ],
   "source": [
    "print(df.shape)\n",
    "print(df.columns)\n",
    "print(df[\"outcome\"].value_counts())\n",
    "print(df.head())"
   ]
  },
  {
   "cell_type": "markdown",
   "metadata": {},
   "source": [
    "3) What is the data type of each attribute in the table?"
   ]
  },
  {
   "cell_type": "code",
   "execution_count": 4,
   "metadata": {
    "collapsed": false
   },
   "outputs": [
    {
     "data": {
      "text/plain": [
       "age                             int64\n",
       "job                            object\n",
       "marital                        object\n",
       "education                      object\n",
       "default_credit                 object\n",
       "balance                         int64\n",
       "housing_loan                   object\n",
       "personal_loan                  object\n",
       "contact                        object\n",
       "day                             int64\n",
       "month                          object\n",
       "duration                        int64\n",
       "campaign                        int64\n",
       "days_from_last_contact        float64\n",
       "previous_campaign_contacts      int64\n",
       "previous_campaign_outcome      object\n",
       "outcome                        object\n",
       "dtype: object"
      ]
     },
     "execution_count": 4,
     "metadata": {},
     "output_type": "execute_result"
    }
   ],
   "source": [
    "df.dtypes"
   ]
  },
  {
   "cell_type": "markdown",
   "metadata": {},
   "source": [
    "## Manipulating DataFrames"
   ]
  },
  {
   "cell_type": "markdown",
   "metadata": {},
   "source": [
    "1) Add to the table a Boolean attribute called 'isContactKnown'. It should say for each element if the 'contact' category is 'unknown' or is it 'cellular'/'telephone'"
   ]
  },
  {
   "cell_type": "code",
   "execution_count": 5,
   "metadata": {
    "collapsed": false
   },
   "outputs": [],
   "source": [
    "df[\"isContactKnown\"] = df[\"contact\"] != \"unknown\""
   ]
  },
  {
   "cell_type": "markdown",
   "metadata": {},
   "source": [
    "2) Change the type of the 'campaign' attribute to Categorical data."
   ]
  },
  {
   "cell_type": "code",
   "execution_count": 6,
   "metadata": {
    "collapsed": false
   },
   "outputs": [],
   "source": [
    "df[\"campaign\"] = df[\"campaign\"].astype(\"category\")"
   ]
  },
  {
   "cell_type": "markdown",
   "metadata": {},
   "source": [
    "## Data Distribution"
   ]
  },
  {
   "cell_type": "markdown",
   "metadata": {},
   "source": [
    "1) What is the range of values for each attribute in the table? what are the mean, std, median values for each category? Hint: You can do all this with one command!"
   ]
  },
  {
   "cell_type": "code",
   "execution_count": 7,
   "metadata": {
    "collapsed": false
   },
   "outputs": [
    {
     "name": "stdout",
     "output_type": "stream",
     "text": [
      "                age        balance           day      duration  \\\n",
      "count  45211.000000   45211.000000  45211.000000  45211.000000   \n",
      "mean      40.936210    1362.272058     15.806419    258.163080   \n",
      "std       10.618762    3044.765829      8.322476    257.527812   \n",
      "min       18.000000   -8019.000000      1.000000      0.000000   \n",
      "25%       33.000000      72.000000      8.000000    103.000000   \n",
      "50%       39.000000     448.000000     16.000000    180.000000   \n",
      "75%       48.000000    1428.000000     21.000000    319.000000   \n",
      "max       95.000000  102127.000000     31.000000   4918.000000   \n",
      "\n",
      "       days_from_last_contact  previous_campaign_contacts  \n",
      "count             8257.000000                45211.000000  \n",
      "mean               224.577692                    0.580323  \n",
      "std                115.344035                    2.303441  \n",
      "min                  1.000000                    0.000000  \n",
      "25%                133.000000                    0.000000  \n",
      "50%                194.000000                    0.000000  \n",
      "75%                327.000000                    0.000000  \n",
      "max                871.000000                  275.000000  \n"
     ]
    }
   ],
   "source": [
    "d_df = df.describe()\n",
    "print (d_df)"
   ]
  },
  {
   "cell_type": "markdown",
   "metadata": {},
   "source": [
    "2) Plot a histogram of the 'balance' attribute and a boxplot of the 'age' attribute."
   ]
  },
  {
   "cell_type": "code",
   "execution_count": 8,
   "metadata": {
    "collapsed": false
   },
   "outputs": [
    {
     "data": {
      "image/png": "[encoded data removed]",
      "text/plain": [
       "<matplotlib.figure.Figure at 0x7ff56cfeb358>"
      ]
     },
     "metadata": {},
     "output_type": "display_data"
    },
    {
     "data": {
      "image/png": "[encoded data removed]",
      "text/plain": [
       "<matplotlib.figure.Figure at 0x7ff542ba0588>"
      ]
     },
     "metadata": {},
     "output_type": "display_data"
    }
   ],
   "source": [
    "df[\"balance\"].plot()\n",
    "plt.show()\n",
    "df.boxplot(column=\"age\")\n",
    "plt.show()"
   ]
  },
  {
   "cell_type": "markdown",
   "metadata": {},
   "source": [
    "3) Plot separately the distributions of balance values for people with negative outcome and positive outcomes. Are they different? If so, how?\n",
    "\n",
    "We can see that people with outcome got bigger balance."
   ]
  },
  {
   "cell_type": "code",
   "execution_count": 9,
   "metadata": {
    "collapsed": false
   },
   "outputs": [
    {
     "data": {
      "image/png": "[encoded data removed]",
      "text/plain": [
       "<matplotlib.figure.Figure at 0x7ff542b7da20>"
      ]
     },
     "metadata": {},
     "output_type": "display_data"
    },
    {
     "data": {
      "image/png": "[encoded data removed]",
      "text/plain": [
       "<matplotlib.figure.Figure at 0x7ff542a6b080>"
      ]
     },
     "metadata": {},
     "output_type": "display_data"
    }
   ],
   "source": [
    "df[df[\"outcome\"]==\"yes\"][\"balance\"].plot()\n",
    "plt.show()\n",
    "df[df[\"outcome\"]==\"no\"][\"balance\"].plot()\n",
    "plt.show()"
   ]
  },
  {
   "cell_type": "markdown",
   "metadata": {},
   "source": [
    "# Q2"
   ]
  },
  {
   "cell_type": "markdown",
   "metadata": {},
   "source": [
    "## Missing Values"
   ]
  },
  {
   "cell_type": "markdown",
   "metadata": {},
   "source": [
    "1) Which of the attributes have missing values? How many?"
   ]
  },
  {
   "cell_type": "code",
   "execution_count": 10,
   "metadata": {
    "collapsed": false
   },
   "outputs": [
    {
     "data": {
      "text/plain": [
       "age                               0\n",
       "job                               0\n",
       "marital                           0\n",
       "education                         0\n",
       "default_credit                    0\n",
       "balance                           0\n",
       "housing_loan                      0\n",
       "personal_loan                     0\n",
       "contact                           0\n",
       "day                               0\n",
       "month                             0\n",
       "duration                          0\n",
       "campaign                          0\n",
       "days_from_last_contact        36954\n",
       "previous_campaign_contacts        0\n",
       "previous_campaign_outcome         0\n",
       "outcome                           0\n",
       "isContactKnown                    0\n",
       "dtype: int64"
      ]
     },
     "execution_count": 10,
     "metadata": {},
     "output_type": "execute_result"
    }
   ],
   "source": [
    "df.isnull().sum()"
   ]
  },
  {
   "cell_type": "markdown",
   "metadata": {},
   "source": [
    "2) Create another dataframe, which doesn't include any people with 'contact' which is 'cellular' or 'telephone'"
   ]
  },
  {
   "cell_type": "code",
   "execution_count": 11,
   "metadata": {
    "collapsed": false
   },
   "outputs": [],
   "source": [
    "df2 = df[df[\"isContactKnown\"] == False]"
   ]
  },
  {
   "cell_type": "code",
   "execution_count": 12,
   "metadata": {
    "collapsed": false
   },
   "outputs": [
    {
     "data": {
      "text/html": [
       "<div>\n",
       "<table border=\"1\" class=\"dataframe\">\n",
       "  <thead>\n",
       "    <tr style=\"text-align: right;\">\n",
       "      <th></th>\n",
       "      <th>age</th>\n",
       "      <th>job</th>\n",
       "      <th>marital</th>\n",
       "      <th>education</th>\n",
       "      <th>default_credit</th>\n",
       "      <th>balance</th>\n",
       "      <th>housing_loan</th>\n",
       "      <th>personal_loan</th>\n",
       "      <th>contact</th>\n",
       "      <th>day</th>\n",
       "      <th>month</th>\n",
       "      <th>duration</th>\n",
       "      <th>campaign</th>\n",
       "      <th>days_from_last_contact</th>\n",
       "      <th>previous_campaign_contacts</th>\n",
       "      <th>previous_campaign_outcome</th>\n",
       "      <th>outcome</th>\n",
       "      <th>isContactKnown</th>\n",
       "    </tr>\n",
       "  </thead>\n",
       "  <tbody>\n",
       "    <tr>\n",
       "      <th>0</th>\n",
       "      <td>58</td>\n",
       "      <td>management</td>\n",
       "      <td>married</td>\n",
       "      <td>tertiary</td>\n",
       "      <td>no</td>\n",
       "      <td>2143</td>\n",
       "      <td>yes</td>\n",
       "      <td>no</td>\n",
       "      <td>unknown</td>\n",
       "      <td>5</td>\n",
       "      <td>may</td>\n",
       "      <td>261</td>\n",
       "      <td>1</td>\n",
       "      <td>NaN</td>\n",
       "      <td>0</td>\n",
       "      <td>unknown</td>\n",
       "      <td>no</td>\n",
       "      <td>False</td>\n",
       "    </tr>\n",
       "    <tr>\n",
       "      <th>1</th>\n",
       "      <td>44</td>\n",
       "      <td>technician</td>\n",
       "      <td>single</td>\n",
       "      <td>secondary</td>\n",
       "      <td>no</td>\n",
       "      <td>29</td>\n",
       "      <td>yes</td>\n",
       "      <td>no</td>\n",
       "      <td>unknown</td>\n",
       "      <td>5</td>\n",
       "      <td>may</td>\n",
       "      <td>151</td>\n",
       "      <td>1</td>\n",
       "      <td>NaN</td>\n",
       "      <td>0</td>\n",
       "      <td>unknown</td>\n",
       "      <td>no</td>\n",
       "      <td>False</td>\n",
       "    </tr>\n",
       "    <tr>\n",
       "      <th>2</th>\n",
       "      <td>33</td>\n",
       "      <td>entrepreneur</td>\n",
       "      <td>married</td>\n",
       "      <td>secondary</td>\n",
       "      <td>no</td>\n",
       "      <td>2</td>\n",
       "      <td>yes</td>\n",
       "      <td>yes</td>\n",
       "      <td>unknown</td>\n",
       "      <td>5</td>\n",
       "      <td>may</td>\n",
       "      <td>76</td>\n",
       "      <td>1</td>\n",
       "      <td>NaN</td>\n",
       "      <td>0</td>\n",
       "      <td>unknown</td>\n",
       "      <td>no</td>\n",
       "      <td>False</td>\n",
       "    </tr>\n",
       "    <tr>\n",
       "      <th>3</th>\n",
       "      <td>47</td>\n",
       "      <td>blue-collar</td>\n",
       "      <td>married</td>\n",
       "      <td>unknown</td>\n",
       "      <td>no</td>\n",
       "      <td>1506</td>\n",
       "      <td>yes</td>\n",
       "      <td>no</td>\n",
       "      <td>unknown</td>\n",
       "      <td>5</td>\n",
       "      <td>may</td>\n",
       "      <td>92</td>\n",
       "      <td>1</td>\n",
       "      <td>NaN</td>\n",
       "      <td>0</td>\n",
       "      <td>unknown</td>\n",
       "      <td>no</td>\n",
       "      <td>False</td>\n",
       "    </tr>\n",
       "    <tr>\n",
       "      <th>4</th>\n",
       "      <td>33</td>\n",
       "      <td>unknown</td>\n",
       "      <td>single</td>\n",
       "      <td>unknown</td>\n",
       "      <td>no</td>\n",
       "      <td>1</td>\n",
       "      <td>no</td>\n",
       "      <td>no</td>\n",
       "      <td>unknown</td>\n",
       "      <td>5</td>\n",
       "      <td>may</td>\n",
       "      <td>198</td>\n",
       "      <td>1</td>\n",
       "      <td>NaN</td>\n",
       "      <td>0</td>\n",
       "      <td>unknown</td>\n",
       "      <td>no</td>\n",
       "      <td>False</td>\n",
       "    </tr>\n",
       "  </tbody>\n",
       "</table>\n",
       "</div>"
      ],
      "text/plain": [
       "   age           job  marital  education default_credit  balance housing_loan  \\\n",
       "0   58    management  married   tertiary             no     2143          yes   \n",
       "1   44    technician   single  secondary             no       29          yes   \n",
       "2   33  entrepreneur  married  secondary             no        2          yes   \n",
       "3   47   blue-collar  married    unknown             no     1506          yes   \n",
       "4   33       unknown   single    unknown             no        1           no   \n",
       "\n",
       "  personal_loan  contact  day month  duration campaign  \\\n",
       "0            no  unknown    5   may       261        1   \n",
       "1            no  unknown    5   may       151        1   \n",
       "2           yes  unknown    5   may        76        1   \n",
       "3            no  unknown    5   may        92        1   \n",
       "4            no  unknown    5   may       198        1   \n",
       "\n",
       "   days_from_last_contact  previous_campaign_contacts  \\\n",
       "0                     NaN                           0   \n",
       "1                     NaN                           0   \n",
       "2                     NaN                           0   \n",
       "3                     NaN                           0   \n",
       "4                     NaN                           0   \n",
       "\n",
       "  previous_campaign_outcome outcome isContactKnown  \n",
       "0                   unknown      no          False  \n",
       "1                   unknown      no          False  \n",
       "2                   unknown      no          False  \n",
       "3                   unknown      no          False  \n",
       "4                   unknown      no          False  "
      ]
     },
     "execution_count": 12,
     "metadata": {},
     "output_type": "execute_result"
    }
   ],
   "source": [
    "df2.head()"
   ]
  },
  {
   "cell_type": "markdown",
   "metadata": {},
   "source": [
    "3) Look at the missing values in the 'days_from_last_contact' attribute. What do you think these missing values might represent? Can you find support in the table for your assumption? Hint: The attribute names have a meaning.\n",
    "\n",
    "The meaning of that column is the amount of days passed since the previous contact\n",
    "we can see that when days_from_last_contact is NaN then previous_campaign_contacts is unknown and previous_campaign_contacts is 0."
   ]
  },
  {
   "cell_type": "code",
   "execution_count": 13,
   "metadata": {
    "collapsed": false
   },
   "outputs": [
    {
     "name": "stdout",
     "output_type": "stream",
     "text": [
      "['unknown'] [0]\n"
     ]
    }
   ],
   "source": [
    "print(df[df[\"days_from_last_contact\"].isnull()][\"previous_campaign_outcome\"].unique(), \n",
    "      df[df[\"days_from_last_contact\"].isnull()][\"previous_campaign_contacts\"].unique())"
   ]
  },
  {
   "cell_type": "markdown",
   "metadata": {},
   "source": [
    "## Discretization"
   ]
  },
  {
   "cell_type": "markdown",
   "metadata": {},
   "source": [
    "In class, you've seen three methods of data discretization, and we will focus on two of them - Equal-width (distance) and Equal-depth (frequency).\n",
    "\n",
    "1) Discretize the balance attribute to 7 intervals using equal-width discretization, and plot the frequency table for them."
   ]
  },
  {
   "cell_type": "code",
   "execution_count": 14,
   "metadata": {
    "collapsed": false
   },
   "outputs": [
    {
     "data": {
      "text/plain": [
       "<matplotlib.axes._subplots.AxesSubplot at 0x7ff542b036d8>"
      ]
     },
     "execution_count": 14,
     "metadata": {},
     "output_type": "execute_result"
    },
    {
     "data": {
      "image/png": "[encoded data removed]",
      "text/plain": [
       "<matplotlib.figure.Figure at 0x7ff542412a90>"
      ]
     },
     "metadata": {},
     "output_type": "display_data"
    }
   ],
   "source": [
    "pd.cut(df[\"balance\"], 7).value_counts().plot(kind=\"bar\")"
   ]
  },
  {
   "cell_type": "markdown",
   "metadata": {},
   "source": [
    "2) Discretize the age attribute into 6 intervals using equal-depth discretization, and plot the frequency table for them."
   ]
  },
  {
   "cell_type": "code",
   "execution_count": 15,
   "metadata": {
    "collapsed": false
   },
   "outputs": [
    {
     "data": {
      "text/plain": [
       "<matplotlib.axes._subplots.AxesSubplot at 0x7ff540333b70>"
      ]
     },
     "execution_count": 15,
     "metadata": {},
     "output_type": "execute_result"
    },
    {
     "data": {
      "image/png": "[encoded data removed]",
      "text/plain": [
       "<matplotlib.figure.Figure at 0x7ff5402de3c8>"
      ]
     },
     "metadata": {},
     "output_type": "display_data"
    }
   ],
   "source": [
    "pd.qcut(df[\"balance\"], 6).value_counts().plot(kind=\"bar\")"
   ]
  },
  {
   "cell_type": "markdown",
   "metadata": {},
   "source": [
    "3) Propose a way to further discretize the Month column."
   ]
  },
  {
   "cell_type": "markdown",
   "metadata": {},
   "source": []
  },
  {
   "cell_type": "markdown",
   "metadata": {},
   "source": [
    "You can turn the least common values into 1 bin (Others)"
   ]
  },
  {
   "cell_type": "code",
   "execution_count": 16,
   "metadata": {
    "collapsed": false
   },
   "outputs": [],
   "source": [
    "freq = df[\"month\"].value_counts()\n",
    "df[\"month\"] = df[\"month\"].apply(lambda x: x if freq[x] >= 1000 else \"Others\")"
   ]
  },
  {
   "cell_type": "markdown",
   "metadata": {},
   "source": [
    "# Q3"
   ]
  },
  {
   "cell_type": "markdown",
   "metadata": {},
   "source": [
    "## Correlation"
   ]
  },
  {
   "cell_type": "markdown",
   "metadata": {},
   "source": [
    "1) Calculate the pearson and spearman correlation between age and balance."
   ]
  },
  {
   "cell_type": "code",
   "execution_count": 17,
   "metadata": {
    "collapsed": false
   },
   "outputs": [
    {
     "data": {
      "text/html": [
       "<div>\n",
       "<table border=\"1\" class=\"dataframe\">\n",
       "  <thead>\n",
       "    <tr style=\"text-align: right;\">\n",
       "      <th></th>\n",
       "      <th>balance</th>\n",
       "      <th>age</th>\n",
       "    </tr>\n",
       "  </thead>\n",
       "  <tbody>\n",
       "    <tr>\n",
       "      <th>balance</th>\n",
       "      <td>1.000000</td>\n",
       "      <td>0.097783</td>\n",
       "    </tr>\n",
       "    <tr>\n",
       "      <th>age</th>\n",
       "      <td>0.097783</td>\n",
       "      <td>1.000000</td>\n",
       "    </tr>\n",
       "  </tbody>\n",
       "</table>\n",
       "</div>"
      ],
      "text/plain": [
       "          balance       age\n",
       "balance  1.000000  0.097783\n",
       "age      0.097783  1.000000"
      ]
     },
     "execution_count": 17,
     "metadata": {},
     "output_type": "execute_result"
    }
   ],
   "source": [
    "df[[\"balance\", \"age\"]].corr(\"pearson\")"
   ]
  },
  {
   "cell_type": "code",
   "execution_count": 18,
   "metadata": {
    "collapsed": false
   },
   "outputs": [
    {
     "data": {
      "text/html": [
       "<div>\n",
       "<table border=\"1\" class=\"dataframe\">\n",
       "  <thead>\n",
       "    <tr style=\"text-align: right;\">\n",
       "      <th></th>\n",
       "      <th>balance</th>\n",
       "      <th>age</th>\n",
       "    </tr>\n",
       "  </thead>\n",
       "  <tbody>\n",
       "    <tr>\n",
       "      <th>balance</th>\n",
       "      <td>1.00000</td>\n",
       "      <td>0.09638</td>\n",
       "    </tr>\n",
       "    <tr>\n",
       "      <th>age</th>\n",
       "      <td>0.09638</td>\n",
       "      <td>1.00000</td>\n",
       "    </tr>\n",
       "  </tbody>\n",
       "</table>\n",
       "</div>"
      ],
      "text/plain": [
       "         balance      age\n",
       "balance  1.00000  0.09638\n",
       "age      0.09638  1.00000"
      ]
     },
     "execution_count": 18,
     "metadata": {},
     "output_type": "execute_result"
    }
   ],
   "source": [
    "df[[\"balance\", \"age\"]].corr(\"spearman\")"
   ]
  },
  {
   "cell_type": "markdown",
   "metadata": {},
   "source": [
    "2) Calculate the full pearson correlation matrix for all the numeric columns in the data."
   ]
  },
  {
   "cell_type": "code",
   "execution_count": 19,
   "metadata": {
    "collapsed": false
   },
   "outputs": [
    {
     "data": {
      "text/html": [
       "<div>\n",
       "<table border=\"1\" class=\"dataframe\">\n",
       "  <thead>\n",
       "    <tr style=\"text-align: right;\">\n",
       "      <th></th>\n",
       "      <th>age</th>\n",
       "      <th>balance</th>\n",
       "      <th>day</th>\n",
       "      <th>duration</th>\n",
       "      <th>days_from_last_contact</th>\n",
       "      <th>previous_campaign_contacts</th>\n",
       "    </tr>\n",
       "  </thead>\n",
       "  <tbody>\n",
       "    <tr>\n",
       "      <th>age</th>\n",
       "      <td>1.000000</td>\n",
       "      <td>0.097783</td>\n",
       "      <td>-0.009120</td>\n",
       "      <td>-0.004648</td>\n",
       "      <td>-0.107863</td>\n",
       "      <td>0.001288</td>\n",
       "    </tr>\n",
       "    <tr>\n",
       "      <th>balance</th>\n",
       "      <td>0.097783</td>\n",
       "      <td>1.000000</td>\n",
       "      <td>0.004503</td>\n",
       "      <td>0.021560</td>\n",
       "      <td>-0.108122</td>\n",
       "      <td>0.016674</td>\n",
       "    </tr>\n",
       "    <tr>\n",
       "      <th>day</th>\n",
       "      <td>-0.009120</td>\n",
       "      <td>0.004503</td>\n",
       "      <td>1.000000</td>\n",
       "      <td>-0.030206</td>\n",
       "      <td>-0.090095</td>\n",
       "      <td>-0.051710</td>\n",
       "    </tr>\n",
       "    <tr>\n",
       "      <th>duration</th>\n",
       "      <td>-0.004648</td>\n",
       "      <td>0.021560</td>\n",
       "      <td>-0.030206</td>\n",
       "      <td>1.000000</td>\n",
       "      <td>-0.024407</td>\n",
       "      <td>0.001203</td>\n",
       "    </tr>\n",
       "    <tr>\n",
       "      <th>days_from_last_contact</th>\n",
       "      <td>-0.107863</td>\n",
       "      <td>-0.108122</td>\n",
       "      <td>-0.090095</td>\n",
       "      <td>-0.024407</td>\n",
       "      <td>1.000000</td>\n",
       "      <td>-0.021885</td>\n",
       "    </tr>\n",
       "    <tr>\n",
       "      <th>previous_campaign_contacts</th>\n",
       "      <td>0.001288</td>\n",
       "      <td>0.016674</td>\n",
       "      <td>-0.051710</td>\n",
       "      <td>0.001203</td>\n",
       "      <td>-0.021885</td>\n",
       "      <td>1.000000</td>\n",
       "    </tr>\n",
       "  </tbody>\n",
       "</table>\n",
       "</div>"
      ],
      "text/plain": [
       "                                 age   balance       day  duration  \\\n",
       "age                         1.000000  0.097783 -0.009120 -0.004648   \n",
       "balance                     0.097783  1.000000  0.004503  0.021560   \n",
       "day                        -0.009120  0.004503  1.000000 -0.030206   \n",
       "duration                   -0.004648  0.021560 -0.030206  1.000000   \n",
       "days_from_last_contact     -0.107863 -0.108122 -0.090095 -0.024407   \n",
       "previous_campaign_contacts  0.001288  0.016674 -0.051710  0.001203   \n",
       "\n",
       "                            days_from_last_contact  previous_campaign_contacts  \n",
       "age                                      -0.107863                    0.001288  \n",
       "balance                                  -0.108122                    0.016674  \n",
       "day                                      -0.090095                   -0.051710  \n",
       "duration                                 -0.024407                    0.001203  \n",
       "days_from_last_contact                    1.000000                   -0.021885  \n",
       "previous_campaign_contacts               -0.021885                    1.000000  "
      ]
     },
     "execution_count": 19,
     "metadata": {},
     "output_type": "execute_result"
    }
   ],
   "source": [
    "df[[\"age\", \"balance\", \"day\", \"duration\", \"days_from_last_contact\", \"previous_campaign_contacts\"]].corr(\"pearson\")"
   ]
  },
  {
   "cell_type": "markdown",
   "metadata": {},
   "source": [
    "## Mutual Information"
   ]
  },
  {
   "cell_type": "markdown",
   "metadata": {},
   "source": [
    "Calcalate the entropy of each of the attributes in the data. Which has the biggest entropy?"
   ]
  },
  {
   "cell_type": "code",
   "execution_count": 20,
   "metadata": {
    "collapsed": false
   },
   "outputs": [
    {
     "name": "stdout",
     "output_type": "stream",
     "text": [
      "[('days_from_last_contact', -39847.265206740813),\n",
      " ('balance', -191111.01130051768),\n",
      " ('duration', -278075.77077378548),\n",
      " ('age', -458639.40999669948),\n",
      " ('day', -480396.69425827061),\n",
      " ('job', -561024.80117326835),\n",
      " ('month', -570143.35666399857),\n",
      " ('campaign', -584170.83620583126),\n",
      " ('education', -626149.03063105384),\n",
      " ('marital', -639695.67284381681),\n",
      " ('previous_campaign_contacts', -645114.55595380045),\n",
      " ('contact', -645923.26469330967),\n",
      " ('housing_loan', -654356.94917708286),\n",
      " ('previous_campaign_outcome', -656796.97335833532),\n",
      " ('isContactKnown', -660003.04998904676),\n",
      " ('personal_loan', -670458.11068001972),\n",
      " ('outcome', -675622.10669788602),\n",
      " ('default_credit', -693273.34052653878)]\n"
     ]
    }
   ],
   "source": [
    "def shannon(col):\n",
    "    entropy = - sum([ p * math.log(p) / math.log(2.0) for p in col])\n",
    "    return entropy\n",
    "\n",
    "entr = list()\n",
    "for column in df.columns:\n",
    "    entr.append((column, shannon(df[column].value_counts())))\n",
    " \n",
    "from pprint import pprint\n",
    "pprint (sorted(entr, key=lambda x: -x[1]))"
   ]
  },
  {
   "cell_type": "markdown",
   "metadata": {},
   "source": [
    "Which attribute has the highest Mutual Information with the 'outcome' attribute?"
   ]
  },
  {
   "cell_type": "code",
   "execution_count": 21,
   "metadata": {
    "collapsed": false,
    "scrolled": true
   },
   "outputs": [
    {
     "data": {
      "text/plain": [
       "('duration', 0.050623386852932981)"
      ]
     },
     "execution_count": 21,
     "metadata": {},
     "output_type": "execute_result"
    }
   ],
   "source": [
    "from sklearn.metrics import mutual_info_score\n",
    "\n",
    "def calc_MI(x, y, bins):\n",
    "    c_xy = np.histogram2d(x, y, bins)[0]\n",
    "    mi = mutual_info_score(None, None, contingency=c_xy)\n",
    "    return mi\n",
    "\n",
    "bins = 5\n",
    "columns = set(df.columns) - {\"outcome\"}\n",
    "mutual_information = dict()\n",
    "df1 = df.fillna(df.mean())\n",
    "for column in columns:\n",
    "    mutual_information[column] = calc_MI(df1.groupby(\"outcome\")[\"outcome\"].transform('count'), \n",
    "                                         df1.groupby(column)[column].transform('count'), bins)\n",
    "max(mutual_information.items(), key=lambda x: x[1])"
   ]
  },
  {
   "cell_type": "markdown",
   "metadata": {},
   "source": [
    "# Q4"
   ]
  },
  {
   "cell_type": "markdown",
   "metadata": {},
   "source": [
    "## Outliers"
   ]
  },
  {
   "cell_type": "markdown",
   "metadata": {},
   "source": [
    "Does the campaign column in the table have any outliers? Support your claim with a relevant plot."
   ]
  },
  {
   "cell_type": "code",
   "execution_count": 22,
   "metadata": {
    "collapsed": false
   },
   "outputs": [
    {
     "data": {
      "image/png": "[encoded data removed]",
      "text/plain": [
       "<matplotlib.figure.Figure at 0x7ff5403186a0>"
      ]
     },
     "metadata": {},
     "output_type": "display_data"
    }
   ],
   "source": [
    "plt.boxplot(df[\"campaign\"])\n",
    "plt.show()"
   ]
  },
  {
   "cell_type": "markdown",
   "metadata": {},
   "source": [
    "## Normalization"
   ]
  },
  {
   "cell_type": "markdown",
   "metadata": {},
   "source": [
    "Think of an appropriate normalization method and normalize the days_from_last_contact column in the table. Why did you choose this method?\n",
    "\n",
    "We can notice that the values of \"days_from_last_contact\" are between 0 to ~400, and there are few values that between ~400 and 871. therefore, we can normalize the column from 0-400 to 0-1\n",
    "and treat the values between ~400 to 871 as exceptionals"
   ]
  },
  {
   "cell_type": "code",
   "execution_count": 23,
   "metadata": {
    "collapsed": false
   },
   "outputs": [
    {
     "data": {
      "text/plain": [
       "<matplotlib.axes._subplots.AxesSubplot at 0x7ff537f9cd30>"
      ]
     },
     "execution_count": 23,
     "metadata": {},
     "output_type": "execute_result"
    },
    {
     "data": {
      "image/png": "[encoded data removed]",
      "text/plain": [
       "<matplotlib.figure.Figure at 0x7ff537078080>"
      ]
     },
     "metadata": {},
     "output_type": "display_data"
    }
   ],
   "source": [
    "pd.cut(df[\"days_from_last_contact\"], 7).value_counts().plot(kind=\"bar\")"
   ]
  },
  {
   "cell_type": "code",
   "execution_count": 24,
   "metadata": {
    "collapsed": false
   },
   "outputs": [],
   "source": [
    "from sklearn import preprocessing\n",
    "x = pd.DataFrame(df[\"days_from_last_contact\"])\n",
    "x.fillna(x.mean(), inplace=True)\n",
    "x[x > 400] = x.values.mean()\n",
    "min_max_scaler = preprocessing.MinMaxScaler()\n",
    "x_scaled = min_max_scaler.fit_transform(x)\n",
    "df[\"days_from_last_contact\"] = x_scaled.flatten()"
   ]
  }
 ],
 "metadata": {
  "anaconda-cloud": {},
  "kernelspec": {
   "display_name": "Python 3",
   "language": "python",
   "name": "python3"
  },
  "language_info": {
   "codemirror_mode": {
    "name": "ipython",
    "version": 3
   },
   "file_extension": ".py",
   "mimetype": "text/x-python",
   "name": "python",
   "nbconvert_exporter": "python",
   "pygments_lexer": "ipython3",
   "version": "3.5.2"
  }
 },
 "nbformat": 4,
 "nbformat_minor": 2
}
